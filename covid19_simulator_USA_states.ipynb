{
 "cells": [
  {
   "cell_type": "markdown",
   "metadata": {},
   "source": [
    "## Covid19 Projection\n",
    "The purpose of this notebook is to run Covid-19 case projection at Indian State level or at Country level. The outcome is the projection of the total confirmed cases for the target State or Country. \n",
    "\n",
    "This solution first tries to understand the approximate time to peak for the target entity (state/country), expected case rates and higher/lower bounds. It determines these parameters from countries that have exhibited similar trends in the past. \n",
    "\n",
    "Subsequently, it runs a simulation with the optimized parameters to generate day by day case projections. The simulation assumes 2 waves of infection surges following gaussian distribution and tries to apply that in generating the case projections. It also incorporates various factors such as transmission probability, testing efficiency, intervention impacts, attritions."
   ]
  },
  {
   "cell_type": "markdown",
   "metadata": {},
   "source": [
    "### When to use this notebook?\n",
    "\n",
    "This notebook will run locally. Our simulation and optimization loops are not too heavy computationally. If your local resources are not adequate, we recommend to use the version of the notebook that enables training on Amazon SageMaker, ``covid19_simulator_sagemaker``."
   ]
  },
  {
   "cell_type": "markdown",
   "metadata": {},
   "source": [
    "### Install and import libraries"
   ]
  },
  {
   "cell_type": "markdown",
   "metadata": {},
   "source": [
    "Uncomment to install missing libraries with the correct versions."
   ]
  },
  {
   "cell_type": "code",
   "execution_count": null,
   "metadata": {},
   "outputs": [],
   "source": [
    "#!pip install -r requirements.txt"
   ]
  },
  {
   "cell_type": "markdown",
   "metadata": {},
   "source": [
    "Import libraries used in the notebook. Additional libraries will be imported as needed in the Python files in the repository."
   ]
  },
  {
   "cell_type": "code",
   "execution_count": null,
   "metadata": {},
   "outputs": [],
   "source": [
    "import sys\n",
    "sys.path.insert(1, 'src')\n",
    "import pandas as pd\n",
    "import numpy as np\n",
    "import random\n",
    "import urllib.request\n",
    "import os\n",
    "# fixed_seed = 39\n",
    "# random.seed(fixed_seed)\n",
    "# np.random.seed(fixed_seed)\n",
    "\n",
    "import warnings\n",
    "warnings.filterwarnings(\"ignore\")\n",
    "\n"
   ]
  },
  {
   "cell_type": "markdown",
   "metadata": {},
   "source": [
    "The below package contains all the configuration parameters for public datasets as well as disease specific parameters extracted from scientific journals. For details, refer to the references cited in `readme.md` for our codebase."
   ]
  },
  {
   "cell_type": "code",
   "execution_count": null,
   "metadata": {},
   "outputs": [],
   "source": [
    "import config"
   ]
  },
  {
   "cell_type": "code",
   "execution_count": null,
   "metadata": {},
   "outputs": [],
   "source": [
    "pd.set_option('display.max_rows', 500)\n",
    "pd.set_option('display.max_columns', 500)\n",
    "pd.set_option('display.width', 1000)\n",
    "from simulation_orchestrator import run"
   ]
  },
  {
   "cell_type": "markdown",
   "metadata": {},
   "source": [
    "### Update local data files from public resources\n",
    "\n",
    "Prior to running our use cases for various states and countries, we will update our local data with the most up-to-date from public data sources."
   ]
  },
  {
   "cell_type": "code",
   "execution_count": null,
   "metadata": {},
   "outputs": [],
   "source": [
    "# Function to refresh the local data file with the latest version from the web\n",
    "def download_latest_data (url, local_file):\n",
    "    with urllib.request.urlopen(url) as response, open(local_file, 'wb') as out_file:\n",
    "        data = response.read() # a `bytes` object\n",
    "        out_file.write(data)\n",
    "\n",
    "# Mapping of online vs offline file locations to refresh\n",
    "online_offline_data = list()\n",
    "# Confirmed cases data maintained by Johns Hopkins University\n",
    "online_offline_data.append((config.confirmed_cases_global_online, \n",
    "                            os.path.join(config.base_data_dir, config.confirmed_cases_global_offline)))\n",
    "# Recovered cases data maintained by Johns Hopkins University\n",
    "online_offline_data.append((config.recovered_cases_global_online, \n",
    "                            os.path.join(config.base_data_dir, config.recovered_cases_global_offline)))\n",
    "# Deceased cases data maintained by Johns Hopkins University\n",
    "online_offline_data.append((config.deceased_cases_global_online, \n",
    "                            os.path.join(config.base_data_dir, config.deceased_cases_global_offline)))\n",
    "# Indian states specific cases maintained by COVID19INDIA (www.covid19india.org)\n",
    "online_offline_data.append((config.india_states_cases_online, \n",
    "                            os.path.join(config.base_data_dir, config.india_states_cases_offline)))\n",
    "# USA population data from census\n",
    "online_offline_data.append((config.usa_populations_data_online, \n",
    "                            os.path.join(config.base_data_dir, config.usa_populations_data_offline)))\n",
    "\n",
    "\n",
    "# Refresh the local data files with the latest versions from respective web sources\n",
    "for path_pair in online_offline_data:\n",
    "    try:\n",
    "        download_latest_data (path_pair[0], path_pair[1])\n",
    "        print ('Downloaded latest data from: {}'.format(path_pair[0]))\n",
    "    except Exception as e:\n",
    "        print ('Error while downloading {}: {}'.format(path_pair[0], e.__class__))\n"
   ]
  },
  {
   "cell_type": "markdown",
   "metadata": {},
   "source": [
    "## Parse data files"
   ]
  },
  {
   "cell_type": "markdown",
   "metadata": {},
   "source": [
    "Import Python code that will parse through the public data sets and extract historical data relevant for our prediction and simulation environments."
   ]
  },
  {
   "cell_type": "code",
   "execution_count": null,
   "metadata": {},
   "outputs": [],
   "source": [
    "import state_data_loader\n",
    "import country_data_loader"
   ]
  },
  {
   "cell_type": "markdown",
   "metadata": {},
   "source": [
    "Run the following cell to load all USA data parsed for each state separately with the recent updates. To use already existing files stored locally, comment out."
   ]
  },
  {
   "cell_type": "code",
   "execution_count": null,
   "metadata": {},
   "outputs": [],
   "source": [
    "# country_code = 'USA'\n",
    "# state_data_loader.load_us_all(country_code)"
   ]
  },
  {
   "cell_type": "markdown",
   "metadata": {},
   "source": [
    "## Examples\n",
    "\n",
    "We will now go through few examples of how we analyze various intervension score for a given state and country. \n"
   ]
  },
  {
   "cell_type": "markdown",
   "metadata": {},
   "source": [
    "### Case: California, USA"
   ]
  },
  {
   "cell_type": "code",
   "execution_count": null,
   "metadata": {},
   "outputs": [],
   "source": [
    "country_code = 'USA'\n",
    "states_names = ['California', 'Texas'] # This is an array so one can load multiple states when needed.\n",
    "states = ['CA', 'TX'] # This is an array so one can load multiple states when needed.\n",
    "\n",
    "# Transform and write the country/state specific data for further processing\n",
    "#country_data_loader.load()\n",
    "state_data_loader.load(country_code, states, latest=True)"
   ]
  },
  {
   "cell_type": "markdown",
   "metadata": {},
   "source": [
    "Extract population from census data."
   ]
  },
  {
   "cell_type": "code",
   "execution_count": null,
   "metadata": {},
   "outputs": [],
   "source": [
    "state_population = state_data_loader.load_us_population(states_names)\n",
    "for idx in range(len(states)):\n",
    "    print('The population of {} for age 18 and older is {}.'.format(states[idx], state_population[idx]))"
   ]
  },
  {
   "cell_type": "markdown",
   "metadata": {},
   "source": [
    "Plot the historical trends."
   ]
  },
  {
   "cell_type": "code",
   "execution_count": null,
   "metadata": {},
   "outputs": [],
   "source": [
    "input_data_file = 'data/input/Cases_{}_{}.csv'.format(country_code, states[0])\n",
    "print(input_data_file)"
   ]
  },
  {
   "cell_type": "code",
   "execution_count": null,
   "metadata": {},
   "outputs": [],
   "source": [
    "df = pd.read_csv(input_data_file)"
   ]
  },
  {
   "cell_type": "code",
   "execution_count": null,
   "metadata": {},
   "outputs": [],
   "source": [
    "df.head(10)"
   ]
  },
  {
   "cell_type": "code",
   "execution_count": null,
   "metadata": {},
   "outputs": [],
   "source": [
    "df['Percent_Confirmed'] = df['Confirmed']/state_population[0]\n",
    "import matplotlib.pyplot as plt\n",
    "df.plot(y='Percent_Confirmed')"
   ]
  },
  {
   "cell_type": "markdown",
   "metadata": {},
   "source": [
    "#### Configure options for prediction\n",
    "\n",
    "Next, we need to determine whether we want to feed in a pattern for incidence rate based on historical patters in other states or countries. We recommend this option when there are states/countries in which the disease exposure happened earlier than the subject state/country. Otherwise, the incidence rate pattern will be based on seasonality of similar infectious diseases such as flu. The annual pattern for the seasonal flu has up to three dominant peaks CITATION. Since most of the countries has 1st peak already observed, we use the available historical COVID19 data for the 1st peak and then adjust the 2nd and 3rd peaks by scaling the 1st peak magnitude and duration using Gaussian curves. "
   ]
  },
  {
   "cell_type": "markdown",
   "metadata": {},
   "source": [
    "Let's find out whether there are other states or countries similar to our use case."
   ]
  },
  {
   "cell_type": "code",
   "execution_count": null,
   "metadata": {},
   "outputs": [],
   "source": [
    "# True, uses other state/country data. False, uses the infection case rate of the target state/country only\n",
    "#config.enable_case_rate_adjustment = False\n",
    "enable_case_rate_adjustment = {'CA':False, 'TX':True}"
   ]
  },
  {
   "cell_type": "markdown",
   "metadata": {},
   "source": [
    "This is set to False for most countries / states, except for the European countries where the cases peaked and declined in relatively short timespan. Setting this flag to True will ensure that a default range (e.g. 1 to 5) is used instead of the weeks-to-peak values measured from other countries. \n"
   ]
  },
  {
   "cell_type": "code",
   "execution_count": null,
   "metadata": {},
   "outputs": [],
   "source": [
    "# True, . False, \n",
    "#config.use_default_wave1_weeks_range = True\n",
    "use_default_wave1_weeks_range = {'CA':True, 'TX':True}"
   ]
  },
  {
   "cell_type": "markdown",
   "metadata": {},
   "source": [
    "### Important parameters:\n",
    "#### config.enable_case_rate_adjustment\n",
    "- Setting this flag to True adjusts the infection case rate based on observations from countries with best matching case rate change pattern\n",
    "- Setting this flag to False uses the infection case rate of the target state/country only\n",
    "\n",
    "#### config.use_default_wave1_weeks_range\n",
    "- Setting this flag to True will ensure that a default range (e.g. 1 to 5) is used instead of the weeks-to-peak values measured from other countries\n",
    "- This could be set to False for most countries / states, except for the European countries where the cases peaked and declined in relatively short timespan\n",
    "\n",
    "##### learn_params\n",
    "- Whether to learn the optimal simulation parameters from the latest data, or to use the ones learnt during last optimization\n",
    "- It's recommended to learn the parameters after fetching the latest confirmed-cases data\n",
    "\n",
    "##### training_days\n",
    "- Number of days of COVID-19 confirmed cases to use for learning / optimization the simulation parameters\n",
    "\n",
    "##### test_days\n",
    "- Latest n number of days to leave aside for testing\n",
    "- Set this parameter to ensure that the simulation can learn from a period when the COVID19 case rate was increasing.\n",
    "- Example 1: Let's say for a selected region COVID19 cases started to rise from 100 days before today and reached its peak in 30 days and declined to daily zero cases in another 30 days. Here, we can choose test_days = 75, as that will allow to learn the simulation parameters (fitment_days) from the growth phase of the infection. Alternatively, if we choose test_days = 5, we will try to learn simulation. parameters from a flat line and thus will get unexpected results.\n",
    "- Example 2: Let's say for a selected region COVID19 cases started to rise from 60 days before today and are still rising. Here, we can choose test_days = 5, as that will allow to learn the simulation parameters (fitment_days) from the growth phase of the infection.\n",
    "\n",
    "##### projection_days\n",
    "- Number of days to project confirmed COVID19 cases for, including the test_days.\n",
    "\n",
    "##### intv_inf_pctg\n",
    "- Assumed influence of various interventions to reduce the spread of COVID19.\n",
    "- should be between 0 (No influence) to 1 (Max influence)\n",
    "\n",
    "#### country_code, state, state_population, actual_testing_capacity\n",
    "- Target location specific parameters\n",
    "- state, state_population parameters to represent the target country when projecting for a country\n",
    "\n",
    "##### These parameters should be configured based on the target location and current day before running the projections.\n",
    "\n",
    "*** Additional configurable parameters can be managed in src/config.python"
   ]
  },
  {
   "cell_type": "code",
   "execution_count": null,
   "metadata": {},
   "outputs": [],
   "source": [
    "# learn_params = True\n",
    "# training_days = 14\n",
    "# test_days = 15\n",
    "# projection_days = 120\n",
    "# intv_inf_pctg = 0.8\n",
    "\n",
    "learn_params = {'CA':True, 'TX':True}\n",
    "training_days = {'CA':14, 'TX':14}\n",
    "test_days = {'CA':15, 'TX':30}\n",
    "projection_days = {'CA':30, 'TX':30}\n",
    "intv_inf_pctg = {'CA':0.8, 'TX':0.8}"
   ]
  },
  {
   "cell_type": "markdown",
   "metadata": {},
   "source": [
    "We extract the estimated population from the census data for the number of individuals 18 and older in 2019."
   ]
  },
  {
   "cell_type": "code",
   "execution_count": null,
   "metadata": {},
   "outputs": [],
   "source": [
    "# state_population = state_data_loader.load_us_population(states)\n",
    "# for idx in range(len(states)):\n",
    "#     print('The population of {} for age 18 and older is {}.'.format(states[idx], state_population[idx]))"
   ]
  },
  {
   "cell_type": "markdown",
   "metadata": {},
   "source": [
    "Testing capacity? Is this needed?"
   ]
  },
  {
   "cell_type": "code",
   "execution_count": null,
   "metadata": {},
   "outputs": [],
   "source": [
    "#actual_testing_capacity = 500000\n",
    "actual_testing_capacity = {'CA':500000, 'TX':500000}"
   ]
  },
  {
   "cell_type": "markdown",
   "metadata": {},
   "source": [
    "What is country level projection?"
   ]
  },
  {
   "cell_type": "code",
   "execution_count": null,
   "metadata": {},
   "outputs": [],
   "source": [
    "country_level_projection = False"
   ]
  },
  {
   "cell_type": "code",
   "execution_count": null,
   "metadata": {},
   "outputs": [],
   "source": [
    "#STOP"
   ]
  },
  {
   "cell_type": "markdown",
   "metadata": {},
   "source": [
    "#### Run simulation-based prediction\n",
    "\n",
    "We are now ready to run the simulation. It will take several minutes to run for ... days."
   ]
  },
  {
   "cell_type": "code",
   "execution_count": null,
   "metadata": {},
   "outputs": [],
   "source": [
    "for idx in range(len(states)):\n",
    "    state = states[idx]\n",
    "    print ('\\nProjection for: {}'.format(state) + ' * ' * 25)\n",
    "    config.enable_case_rate_adjustment = enable_case_rate_adjustment[state]\n",
    "    config.use_default_wave1_weeks_range = use_default_wave1_weeks_range[state]\n",
    "    run (country_code, state, state_population[idx], actual_testing_capacity[state], training_days[state], test_days[state], \\\n",
    "         projection_days[state], learn_params[state], country_level_projection, intervention_influence_pctg=intv_inf_pctg[state])\n"
   ]
  },
  {
   "cell_type": "code",
   "execution_count": null,
   "metadata": {},
   "outputs": [],
   "source": []
  }
 ],
 "metadata": {
  "kernelspec": {
   "display_name": "Python 3",
   "language": "python",
   "name": "python3"
  },
  "language_info": {
   "codemirror_mode": {
    "name": "ipython",
    "version": 3
   },
   "file_extension": ".py",
   "mimetype": "text/x-python",
   "name": "python",
   "nbconvert_exporter": "python",
   "pygments_lexer": "ipython3",
   "version": "3.8.3"
  }
 },
 "nbformat": 4,
 "nbformat_minor": 4
}
