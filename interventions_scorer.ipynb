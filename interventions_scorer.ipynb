{
 "cells": [
  {
   "cell_type": "markdown",
   "metadata": {},
   "source": [
    "### Primary objectives:\n",
    "1. Score / weigh effectiveness of each intervention for various countries using a weighted combination of scoring methods\n",
    "2. Assign a daily aggregated intervention score for each country using the calculated intervention weights - these scores will be used for case count projection"
   ]
  },
  {
   "cell_type": "code",
   "execution_count": null,
   "metadata": {},
   "outputs": [],
   "source": [
    "import sys\n",
    "sys.path.insert(1, 'src')\n",
    "import config\n",
    "import intervention_effectiveness_scorer as intv_scorer\n",
    "\n",
    "import warnings\n",
    "warnings.simplefilter('ignore')\n",
    "%matplotlib inline\n",
    "import pandas as pd\n",
    "import numpy as np\n",
    "import matplotlib.pyplot as plt\n",
    "import seaborn as sns\n",
    "import pickle\n",
    "import time\n",
    "import urllib.request\n",
    "import os\n",
    "from datetime import datetime, timedelta\n",
    "from matplotlib import pyplot\n",
    "\n",
    "pd.set_option('display.max_rows', 500)\n",
    "pd.set_option('display.max_columns', 500)\n",
    "pd.set_option('display.width', 1000)"
   ]
  },
  {
   "cell_type": "markdown",
   "metadata": {},
   "source": [
    "### Fetch latest intervention data for countries"
   ]
  },
  {
   "cell_type": "markdown",
   "metadata": {},
   "source": [
    "We used the publicly available data from https://oxcgrtportal.azurewebsites.net/api/CSVDownload for our experiments. But feel free to use any other more granular data following a similar structure."
   ]
  },
  {
   "cell_type": "code",
   "execution_count": null,
   "metadata": {},
   "outputs": [],
   "source": [
    "# Set this flag to True if you want to download the latest COVID19 intervention data from respective web source\n",
    "# Set it as False in case of subsequent runs on the same day.\n",
    "LOAD_LATEST_DATA = True\n"
   ]
  },
  {
   "cell_type": "code",
   "execution_count": null,
   "metadata": {},
   "outputs": [],
   "source": [
    "if LOAD_LATEST_DATA:\n",
    "    url = config.oxcgrt_intervention_data_online\n",
    "    local_file = os.path.join(config.base_data_dir, config.oxcgrt_intervention_data_offline)\n",
    "    try:\n",
    "        with urllib.request.urlopen(url) as response, open(local_file, 'wb') as out_file:\n",
    "            data = response.read() # a `bytes` object\n",
    "            out_file.write(data)\n",
    "            print ('Downloaded latest data from: {}'.format(url))\n",
    "    except Exception as e:\n",
    "        print ('Error while downloading {}: {}'.format(url, e.__class__))    "
   ]
  },
  {
   "cell_type": "markdown",
   "metadata": {},
   "source": [
    "### Derive the Effectiveness Score for different interventions "
   ]
  },
  {
   "cell_type": "code",
   "execution_count": null,
   "metadata": {},
   "outputs": [],
   "source": [
    "intv_scorer.data_src = os.path.join(config.base_data_dir, config.oxcgrt_intervention_data_offline)\n",
    "#Select a country only if it has exceeded the conf_cases_threshold\n",
    "intv_scorer.conf_cases_threshold = 10000\n",
    "#Select records having confirmed cases >= min_case_threshold\n",
    "intv_scorer.min_case_threshold = 0\n",
    "#window for rollong averages of conf case counts\n",
    "intv_scorer.smoothing_window_len = 3\n",
    "#number of lags to use for time-series style modeling of conf cases\n",
    "intv_scorer.num_lags = 1\n",
    "#Skip a few recent dayes data for potential missing values\n",
    "intv_scorer.recent_days_to_skip = 5 \n",
    "#median incubation period for Covid19\n",
    "intv_scorer.incubation_period = 5\n",
    "\n",
    "fit_stringency_index = 0.5\n",
    "fit_conf_cases = 0.5\n",
    "fit_intv_effect = 0.0\n",
    "intv_scorer.intervention_scoring_methods = {'fit_stringency_index':fit_stringency_index, \n",
    "                                'fit_conf_cases':fit_conf_cases, \n",
    "                                'fit_intv_effect':fit_intv_effect}\n",
    "\n",
    "#Export location of intervention scores\n",
    "analysis_outcome_export_loc = os.path.join(config.base_data_dir, config.intervention_impacts_loc)\n",
    "#Export location of weighted & aggregated intervention scores\n",
    "aggregated_intervention_scores_export_loc = os.path.join(config.base_data_dir, config.intervention_scores_loc)"
   ]
  },
  {
   "cell_type": "markdown",
   "metadata": {},
   "source": [
    "### Score relative weights of individual interventions for each country"
   ]
  },
  {
   "cell_type": "code",
   "execution_count": null,
   "metadata": {},
   "outputs": [],
   "source": [
    "#selected_countries = ['IND', 'USA', 'GBR', 'ITA', 'JPN', 'SGP', 'NLD', 'ISR', 'BEL', 'BRA', 'DEU', 'CUB', 'ESP', 'MEX', 'MYS', 'PHL', 'HUN', 'ZAF']\n",
    "selected_countries = None\n",
    "# Calculating relative weights/importance of different interventions\n",
    "data_all, selected_countries, all_country_intv_scores = intv_scorer.score_interventions (selected_countries=None)\n",
    "all_country_intv_scores.to_csv(analysis_outcome_export_loc, index=False)\n"
   ]
  },
  {
   "cell_type": "code",
   "execution_count": null,
   "metadata": {},
   "outputs": [],
   "source": [
    "interventions = all_country_intv_scores['intervention'].unique().tolist()\n",
    "relevant_cols = ['CountryName', 'CountryCode', 'ConfirmedCases', 'ConfirmedDeaths', 'StringencyIndex'] + interventions\n",
    "\n",
    "data_filtered = data_all.loc[data_all['CountryCode'].isin(selected_countries), relevant_cols].copy()\n",
    "data_filtered.reset_index(inplace=True)\n",
    "data_filtered.fillna(0, inplace=True)\n",
    "# Assign an aggregated intervention score for each country, each day\n",
    "data_filtered = intv_scorer.assign_weighted_aggregations (data_filtered, all_country_intv_scores, selected_countries)\n",
    "\n",
    "print ('* '*50 + '\\nComparing the Stringency Index of the data provider (OxCGRT) and our calculated Aggregated Intervention Scores:')\n",
    "display (data_filtered.groupby('CountryName')[['StringencyIndex', 'aggr_weighted_intv_norm']].aggregate(['mean', 'median', 'std']).sort_values(by=('StringencyIndex', 'median'), ascending=False).style.background_gradient(cmap='PuBu'))\n",
    "data_filtered.to_csv(aggregated_intervention_scores_export_loc)\n"
   ]
  }
 ],
 "metadata": {
  "kernelspec": {
   "display_name": "Python 3",
   "language": "python",
   "name": "python3"
  },
  "language_info": {
   "codemirror_mode": {
    "name": "ipython",
    "version": 3
   },
   "file_extension": ".py",
   "mimetype": "text/x-python",
   "name": "python",
   "nbconvert_exporter": "python",
   "pygments_lexer": "ipython3",
   "version": "3.8.3"
  }
 },
 "nbformat": 4,
 "nbformat_minor": 4
}
