{
 "cells": [
  {
   "cell_type": "markdown",
   "metadata": {},
   "source": [
    "# Case study using US States or Counties"
   ]
  },
  {
   "cell_type": "markdown",
   "metadata": {},
   "source": [
    "Let's start with installing the required packages. When you re-run the notebook, you can comment out the requirements as they are already installed in your notebook environment."
   ]
  },
  {
   "cell_type": "code",
   "execution_count": null,
   "metadata": {},
   "outputs": [],
   "source": [
    "#!pip install -r requirements.txt"
   ]
  },
  {
   "cell_type": "markdown",
   "metadata": {},
   "source": [
    "In this notebook, we will use Delphi's COVIDcast and Epidata APIs at https://cmu-delphi.github.io/delphi-epidata/api/covidcast.html and https://cmu-delphi.github.io/delphi-epidata/api/gft.html, respectively to compare trends and seasonality for seasonal flu and influenze like illnesses."
   ]
  },
  {
   "cell_type": "code",
   "execution_count": null,
   "metadata": {},
   "outputs": [],
   "source": [
    "import sys\n",
    "sys.path.append('src/')\n",
    "from delphi_epidata import Epidata\n",
    "import pandas as pd\n",
    "import matplotlib.pyplot as plt\n",
    "import seaborn as sns\n",
    "import numpy as np"
   ]
  },
  {
   "cell_type": "code",
   "execution_count": null,
   "metadata": {},
   "outputs": [],
   "source": [
    "state = 'ca'"
   ]
  },
  {
   "cell_type": "code",
   "execution_count": null,
   "metadata": {},
   "outputs": [],
   "source": [
    "start_date = 20200401\n",
    "stop_date = 20201007"
   ]
  },
  {
   "cell_type": "markdown",
   "metadata": {},
   "source": [
    "## Survey data for Covid19"
   ]
  },
  {
   "cell_type": "code",
   "execution_count": null,
   "metadata": {},
   "outputs": [],
   "source": [
    "res = Epidata.covidcast('jhu-csse', 'confirmed_incidence_num', 'day', 'state', \\\n",
    "                        [start_date, Epidata.range(start_date, stop_date)], state)\n",
    "df_jhu = pd.DataFrame(res['epidata'])\n",
    "df_jhu.head(5)"
   ]
  },
  {
   "cell_type": "code",
   "execution_count": null,
   "metadata": {},
   "outputs": [],
   "source": [
    "res = Epidata.covidcast('jhu-csse', 'confirmed_7dav_incidence_num', 'day', 'state', \\\n",
    "                        [start_date, Epidata.range(start_date, stop_date)], state)\n",
    "df_jhu_7day = pd.DataFrame(res['epidata'])\n",
    "df_jhu_7day.head(5)"
   ]
  },
  {
   "cell_type": "code",
   "execution_count": null,
   "metadata": {},
   "outputs": [],
   "source": [
    "# SAHIKA: This is not coming out correctly\n",
    "\n",
    "df_jhu['value'].plot()\n",
    "plt.xlabel('days since ' + str(df_jhu['time_value'][0]))\n",
    "plt.ylabel('num of incidence')\n"
   ]
  },
  {
   "cell_type": "code",
   "execution_count": null,
   "metadata": {},
   "outputs": [],
   "source": [
    "df_jhu_7day['value'].plot()\n",
    "plt.xlabel('days since ' + str(df_jhu_7day['time_value'][0]))\n",
    "plt.ylabel('num of incidence')\n",
    "#plt.legend(['actual', '7-day avg'])\n"
   ]
  },
  {
   "cell_type": "code",
   "execution_count": null,
   "metadata": {},
   "outputs": [],
   "source": [
    "res = Epidata.covidcast('fb-survey', 'raw_cli', 'day', 'state', \\\n",
    "                        Epidata.range(start_date, stop_date), state)\n",
    "df_facebook = pd.DataFrame(res['epidata'])\n",
    "\n",
    "df_facebook['value'].plot()"
   ]
  },
  {
   "cell_type": "code",
   "execution_count": null,
   "metadata": {},
   "outputs": [],
   "source": [
    "res = Epidata.covidcast('ght', 'smoothed_search', 'day', 'state', \\\n",
    "                        [start_date, Epidata.range(start_date, stop_date)], state)\n",
    "df_google = pd.DataFrame(res['epidata'])\n",
    "\n",
    "df_google['value'].plot()"
   ]
  },
  {
   "cell_type": "markdown",
   "metadata": {},
   "source": [
    "## Let's automate it for multiple states"
   ]
  },
  {
   "cell_type": "code",
   "execution_count": null,
   "metadata": {},
   "outputs": [],
   "source": [
    "def get_covid_data(state,start_date, stop_date):\n",
    "    \n",
    "    # get covid data\n",
    "    res = Epidata.covidcast('jhu-csse', 'confirmed_incidence_num', 'day', 'state', \\\n",
    "                            Epidata.range(start_date, stop_date), state)\n",
    "    df_jhu = pd.DataFrame(res['epidata'])\n",
    "    \n",
    "    # when the covid peaked\n",
    "    res = Epidata.covidcast('jhu-csse', 'confirmed_7dav_incidence_num', 'day', 'state', \\\n",
    "                            Epidata.range(start_date, stop_date), state)\n",
    "    df_jhu_7dav = pd.DataFrame(res['epidata'])\n",
    "    peakday = np.argmax(df_jhu_7dav['value']) \n",
    "    \n",
    "    \n",
    "    res = Epidata.covidcast('jhu-csse', 'deaths_incidence_num', 'day', 'state', \\\n",
    "                            Epidata.range(start_date, stop_date), state)\n",
    "    df_jhu_deaths = pd.DataFrame(res['epidata'])\n",
    "    \n",
    "    res = Epidata.covidcast('jhu-csse', 'deaths_7dav_incidence_num', 'day', 'state', \\\n",
    "                            Epidata.range(start_date, stop_date), state)\n",
    "    df_jhu_deaths_7dav = pd.DataFrame(res['epidata'])\n",
    "    \n",
    "    return df_jhu, df_jhu_7dav, df_jhu_deaths_7dav, peakday\n",
    "    \n",
    "    "
   ]
  },
  {
   "cell_type": "code",
   "execution_count": null,
   "metadata": {},
   "outputs": [],
   "source": [
    "def get_flu_data(years, datasource, state):\n",
    "    df_ili_all = pd.DataFrame(data=[], columns=['week', 'percent_ili'])\n",
    "\n",
    "    for year in years:\n",
    "        df_ili_annual = pd.DataFrame(data=[],columns=['week', 'percent_ili'])\n",
    "        df_ili_annual['week'] = range(0, 52, 1)\n",
    "\n",
    "        if datasource == 'fluview':\n",
    "            res = Epidata.fluview([state], [Epidata.range(year + '01', year + '52')])\n",
    "            ydataname = \"num_ili\"\n",
    "        \n",
    "        if datasource == 'googletrends':\n",
    "            res = Epidata.gft([state], [Epidata.range(year + '01', year + '52')])\n",
    "            ydataname = \"num\"\n",
    "\n",
    "        df = pd.DataFrame(res['epidata'])\n",
    "        df_ili_annual['num_ili'] = df[ydataname].iloc[:52]\n",
    "        \n",
    "        if year == years[0]:\n",
    "            df_ili_all = df_ili_annual\n",
    "        else:\n",
    "            df_ili_all = df_ili_all.append(df_ili_annual)\n",
    "\n",
    "    return df_ili_all\n"
   ]
  },
  {
   "cell_type": "code",
   "execution_count": null,
   "metadata": {},
   "outputs": [],
   "source": [
    "\"\"\"\n",
    "Plot annual trends with the mean and 95% confidence interval\n",
    "\n",
    "\"\"\"\n",
    "\n",
    "def plot_flu_data_w_covid(df_ili_seasonal, df_ili_H1N1, df_ili_H1N5, df_covid_avg, df_covid_deaths_avg, \\\n",
    "                          peakday,start_week_for_plot):\n",
    "    # annual trends in flu data\n",
    "    fig = plt.figure(figsize=(20, 6))\n",
    "        \n",
    "    sns.lineplot(data=df_ili_seasonal, x='week', y='num_ili')          \n",
    "    sns.lineplot(data=df_ili_H1N1, x='week', y='num_ili')\n",
    "    #sns.lineplot(data=df_ili_H1N5, x='week', y='num_ili')\n",
    "    \n",
    "    covid_data_startweek = 14\n",
    "    xweek = [covid_data_startweek + ii/7.0 for ii in range(len(df_covid_avg))]\n",
    "    \n",
    "    df_covid_avg['week'] = xweek\n",
    "    sns.lineplot(data=df_covid_avg, x='week', y='value')\n",
    "    \n",
    "\n",
    "    xlim_lower = start_week_for_plot\n",
    "    xlim_upper = 52\n",
    "    \n",
    "    if 0 > xlim_lower:\n",
    "        plt.text(0, 0.0*max(df_ili_seasonal['num_ili']), 'January')\n",
    "        \n",
    "    if 14 > xlim_lower:\n",
    "        plt.text(14, 0.0*max(df_ili_seasonal['num_ili']), 'April')\n",
    "        \n",
    "    if 27 > xlim_lower:\n",
    "        plt.text(27, 0.0*max(df_ili_seasonal['num_ili']), 'July')\n",
    "        \n",
    "    plt.text(40, 0.0*max(df_ili_seasonal['num_ili']), 'October')\n",
    "    plt.text(49, 0.0*max(df_ili_seasonal['num_ili']), 'December')\n",
    "    \n",
    "    peakweek = peakday/7.0 + covid_data_startweek\n",
    "    if peakweek > xlim_lower:\n",
    "        plt.text(peakweek, df_covid_avg['value'].iloc[peakday] + 1000, 'PeakWeek=%d'%int(peakweek))\n",
    "\n",
    "    \n",
    "    \n",
    "    plt.ylim([-100, 20000])\n",
    "    plt.xlim([xlim_lower, xlim_upper])    \n",
    "    \n",
    "    plt.title('Covid__US_' + state )          \n",
    "    #plt.legend(['Seasonal Flu', 'H1N1', 'H5N1', 'Covid19'])\n",
    "    plt.legend(['Seasonal Flu', 'H1N1', 'Covid19 7-day avg'])\n",
    "    plt.savefig('Covid__US_' + state + '.png')  \n",
    "    \n",
    "    \n",
    "   "
   ]
  },
  {
   "cell_type": "code",
   "execution_count": null,
   "metadata": {},
   "outputs": [],
   "source": [
    "# southern states\n",
    "states = ['tx', 'ca', 'fl', 'ga', 'la', 'oh', 'mi', 'wi', 'nc']\n",
    "\n",
    "states = ['wi', 'nc', 'il', 'ca']\n",
    "\n",
    "# northern states\n",
    "#states = ['oh', 'mi', 'wa']\n",
    "\n",
    "start_date, stop_date = 20200401, 20201007\n",
    "\n",
    "for state in states:\n",
    "    # \n",
    "    _, df_jhu_7dav, df_jhu_deaths_7dav, peakday = get_covid_data(state, start_date, stop_date)\n",
    "    \n",
    "    # seasonal flu and other pandemics BEFORE covid\n",
    "    years = [str(year) for year in range(2011, 2015)]\n",
    "    df_ili_seasonal = get_flu_data(years, 'googletrends', state)\n",
    "\n",
    "    years = [str(year) for year in range(2008, 2010)]\n",
    "    df_ili_H1N1 = get_flu_data(years, 'googletrends', state)\n",
    "\n",
    "    years = [str(year) for year in range(2004, 2006)]\n",
    "    df_ili_H1N5 = get_flu_data(years, 'googletrends', state)\n",
    "\n",
    "    plot_flu_data_w_covid(df_ili_seasonal, df_ili_H1N1, df_ili_H1N5, df_jhu_7dav, df_jhu_deaths_7dav, \\\n",
    "                          peakday, start_week_for_plot=10)\n",
    "    "
   ]
  },
  {
   "cell_type": "code",
   "execution_count": null,
   "metadata": {},
   "outputs": [],
   "source": []
  },
  {
   "cell_type": "code",
   "execution_count": null,
   "metadata": {},
   "outputs": [],
   "source": []
  }
 ],
 "metadata": {
  "kernelspec": {
   "display_name": "Python 3",
   "language": "python",
   "name": "python3"
  },
  "language_info": {
   "codemirror_mode": {
    "name": "ipython",
    "version": 3
   },
   "file_extension": ".py",
   "mimetype": "text/x-python",
   "name": "python",
   "nbconvert_exporter": "python",
   "pygments_lexer": "ipython3",
   "version": "3.8.3"
  }
 },
 "nbformat": 4,
 "nbformat_minor": 4
}
